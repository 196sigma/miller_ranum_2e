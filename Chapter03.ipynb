{
 "cells": [
  {
   "cell_type": "code",
   "execution_count": 1,
   "metadata": {},
   "outputs": [],
   "source": [
    "from data_structures import *"
   ]
  },
  {
   "cell_type": "markdown",
   "metadata": {},
   "source": [
    "# 3.3 Stacks"
   ]
  },
  {
   "cell_type": "markdown",
   "metadata": {},
   "source": [
    "## Simple Balanced Paratheses"
   ]
  },
  {
   "cell_type": "code",
   "execution_count": null,
   "metadata": {},
   "outputs": [],
   "source": [
    "symbolString = \"()\""
   ]
  },
  {
   "cell_type": "code",
   "execution_count": null,
   "metadata": {},
   "outputs": [],
   "source": [
    "def parChecker(symbolString):\n",
    "    s = Stack()\n",
    "    for sym in symbolString:\n",
    "        if sym == \"(\":\n",
    "            s.push(sym)\n",
    "        elif (sym == \")\") and (s.size() > 0):\n",
    "            s.pop()\n",
    "        elif (sym == \")\") and (s.size() == 0):\n",
    "            return False\n",
    "    return s.size() == 0"
   ]
  },
  {
   "cell_type": "code",
   "execution_count": null,
   "metadata": {},
   "outputs": [],
   "source": [
    "symbolString = \"(* 5 (+ 3 3)))\"\n",
    "parChecker(symbolString)"
   ]
  },
  {
   "cell_type": "code",
   "execution_count": null,
   "metadata": {},
   "outputs": [],
   "source": [
    "\n",
    "        \n",
    "print(s.size())"
   ]
  },
  {
   "cell_type": "markdown",
   "metadata": {},
   "source": [
    "## 3.3.6 Converting Decimal to Binary"
   ]
  },
  {
   "cell_type": "code",
   "execution_count": null,
   "metadata": {},
   "outputs": [],
   "source": [
    "x_bin = \"\"\n",
    "x = 233\n",
    "def \n",
    "s = Stack()\n",
    "while x > 0:\n",
    "    r = x - (x//2)*2\n",
    "    x = x//2\n",
    "    s.push(r)\n",
    "while s.size() > 0:\n",
    "    x_bin = str(s.pop()) + x_bin\n",
    "x_bin"
   ]
  },
  {
   "cell_type": "markdown",
   "metadata": {},
   "source": [
    "# 3.4 Queues"
   ]
  },
  {
   "cell_type": "markdown",
   "metadata": {},
   "source": [
    "## 3.4.4 Simulation: Hot Potato"
   ]
  },
  {
   "cell_type": "code",
   "execution_count": 15,
   "metadata": {},
   "outputs": [
    {
     "name": "stdout",
     "output_type": "stream",
     "text": [
      "1 jerome\n",
      "2 will\n",
      "3 fatimah\n",
      "4 mike\n",
      "5 alexis\n",
      "6 joy\n"
     ]
    }
   ],
   "source": [
    "names = ['jerome', 'will', 'fatimah', 'mike', 'alexis', 'joy']\n",
    "num = 7\n",
    "q = Queue()\n",
    "for n in names:\n",
    "    q.enqueue(n)\n",
    "\n",
    "num_counter = 1\n",
    "while num_counter < 7:\n",
    "    current_name = q.dequeue()\n",
    "    print(num_counter, current_name)\n",
    "    num_counter += 1\n",
    "    q.enqueue(current_name)\n",
    "q.enqueue(current_name)"
   ]
  },
  {
   "cell_type": "code",
   "execution_count": 16,
   "metadata": {},
   "outputs": [
    {
     "data": {
      "text/plain": [
       "'jerome'"
      ]
     },
     "execution_count": 16,
     "metadata": {},
     "output_type": "execute_result"
    }
   ],
   "source": [
    "q.dequeue()"
   ]
  },
  {
   "cell_type": "markdown",
   "metadata": {},
   "source": [
    "# 3.5 Deques"
   ]
  },
  {
   "cell_type": "markdown",
   "metadata": {},
   "source": [
    "# 3.6 Lists"
   ]
  },
  {
   "cell_type": "markdown",
   "metadata": {},
   "source": [
    "### 3.6.2 Implementing an Unordered List: Linked Lists"
   ]
  },
  {
   "cell_type": "code",
   "execution_count": null,
   "metadata": {},
   "outputs": [],
   "source": []
  }
 ],
 "metadata": {
  "kernelspec": {
   "display_name": "Python 3",
   "language": "python",
   "name": "python3"
  },
  "language_info": {
   "codemirror_mode": {
    "name": "ipython",
    "version": 3
   },
   "file_extension": ".py",
   "mimetype": "text/x-python",
   "name": "python",
   "nbconvert_exporter": "python",
   "pygments_lexer": "ipython3",
   "version": "3.8.3"
  }
 },
 "nbformat": 4,
 "nbformat_minor": 4
}
