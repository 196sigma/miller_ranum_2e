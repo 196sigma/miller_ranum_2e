{
 "cells": [
  {
   "cell_type": "code",
   "execution_count": 1,
   "metadata": {},
   "outputs": [],
   "source": [
    "from data_structures import *"
   ]
  },
  {
   "cell_type": "markdown",
   "metadata": {},
   "source": [
    "# 3.3 Stacks"
   ]
  },
  {
   "cell_type": "markdown",
   "metadata": {},
   "source": [
    "## Simple Balanced Paratheses"
   ]
  },
  {
   "cell_type": "code",
   "execution_count": null,
   "metadata": {},
   "outputs": [],
   "source": [
    "symbolString = \"()\""
   ]
  },
  {
   "cell_type": "code",
   "execution_count": null,
   "metadata": {},
   "outputs": [],
   "source": [
    "def parChecker(symbolString):\n",
    "    s = Stack()\n",
    "    for sym in symbolString:\n",
    "        if sym == \"(\":\n",
    "            s.push(sym)\n",
    "        elif (sym == \")\") and (s.size() > 0):\n",
    "            s.pop()\n",
    "        elif (sym == \")\") and (s.size() == 0):\n",
    "            return False\n",
    "    return s.size() == 0"
   ]
  },
  {
   "cell_type": "code",
   "execution_count": null,
   "metadata": {},
   "outputs": [],
   "source": [
    "symbolString = \"(* 5 (+ 3 3)))\"\n",
    "parChecker(symbolString)"
   ]
  },
  {
   "cell_type": "code",
   "execution_count": null,
   "metadata": {},
   "outputs": [],
   "source": [
    "\n",
    "        \n",
    "print(s.size())"
   ]
  },
  {
   "cell_type": "markdown",
   "metadata": {},
   "source": [
    "## 3.3.6 Converting Decimal to Binary"
   ]
  },
  {
   "cell_type": "code",
   "execution_count": null,
   "metadata": {},
   "outputs": [],
   "source": [
    "x_bin = \"\"\n",
    "x = 233\n",
    "def \n",
    "s = Stack()\n",
    "while x > 0:\n",
    "    r = x - (x//2)*2\n",
    "    x = x//2\n",
    "    s.push(r)\n",
    "while s.size() > 0:\n",
    "    x_bin = str(s.pop()) + x_bin\n",
    "x_bin"
   ]
  },
  {
   "cell_type": "markdown",
   "metadata": {},
   "source": [
    "# 3.4 Queues"
   ]
  },
  {
   "cell_type": "markdown",
   "metadata": {},
   "source": [
    "## 3.4.4 Simulation: Hot Potato"
   ]
  },
  {
   "cell_type": "code",
   "execution_count": 15,
   "metadata": {},
   "outputs": [
    {
     "name": "stdout",
     "output_type": "stream",
     "text": [
      "1 jerome\n",
      "2 will\n",
      "3 fatimah\n",
      "4 mike\n",
      "5 alexis\n",
      "6 joy\n"
     ]
    }
   ],
   "source": [
    "names = ['jerome', 'will', 'fatimah', 'mike', 'alexis', 'joy']\n",
    "num = 7\n",
    "q = Queue()\n",
    "for n in names:\n",
    "    q.enqueue(n)\n",
    "\n",
    "num_counter = 1\n",
    "while num_counter < 7:\n",
    "    current_name = q.dequeue()\n",
    "    print(num_counter, current_name)\n",
    "    num_counter += 1\n",
    "    q.enqueue(current_name)\n",
    "q.enqueue(current_name)"
   ]
  },
  {
   "cell_type": "code",
   "execution_count": 16,
   "metadata": {},
   "outputs": [
    {
     "data": {
      "text/plain": [
       "'jerome'"
      ]
     },
     "execution_count": 16,
     "metadata": {},
     "output_type": "execute_result"
    }
   ],
   "source": [
    "q.dequeue()"
   ]
  },
  {
   "cell_type": "markdown",
   "metadata": {},
   "source": [
    "# 3.5 Deques"
   ]
  },
  {
   "cell_type": "markdown",
   "metadata": {},
   "source": [
    "# 3.6 Lists"
   ]
  },
  {
   "cell_type": "markdown",
   "metadata": {},
   "source": [
    "A __list__ is a collection of items where each item holds a relative position with respect to the others."
   ]
  },
  {
   "cell_type": "markdown",
   "metadata": {},
   "source": [
    "### 3.6.1 Unordered List Abstract Data Type\n",
    "`List()`\n",
    "\n",
    "`add(item)`\n",
    "\n",
    "`remove(item)`\n",
    "\n",
    "`search(item)`\n",
    "\n",
    "`isEmpty()`\n",
    "\n",
    "`length()`\n",
    "\n",
    "`append(item)`\n",
    "\n",
    "`index(item)`\n",
    "\n",
    "`insert(pos, item)`\n",
    "\n",
    "`pop()`\n",
    "\n",
    "`pop(pos)`"
   ]
  },
  {
   "cell_type": "markdown",
   "metadata": {},
   "source": [
    "### 3.6.2 Implementing an Unordered List: Linked Lists\n",
    "\n",
    "* The location of the first item must be specified (__head__ of list)\n",
    "* first item links to second item, etc\n",
    "* Last item must know there is no next item (points to __NULL__)"
   ]
  },
  {
   "cell_type": "markdown",
   "metadata": {},
   "source": [
    "#### 3.6.2.1 The `Node` Class\n",
    "* Basic building block for linked list\n",
    "* Each node containes item itself (__data field__) and reference to next node"
   ]
  },
  {
   "cell_type": "code",
   "execution_count": 5,
   "metadata": {},
   "outputs": [],
   "source": [
    "class Node:\n",
    "    def __init__(self, value):\n",
    "        self.value = value\n",
    "        self.next_node = None\n",
    "\n",
    "    def setData(self, value):\n",
    "        self.value = value\n",
    "        \n",
    "    def getData(self):\n",
    "        return self.value\n",
    "    \n",
    "    def getNext(self):\n",
    "        return self.next_node\n",
    "    \n",
    "    def setNext(self, next_node):\n",
    "        self.next_node = next_node"
   ]
  },
  {
   "cell_type": "code",
   "execution_count": 6,
   "metadata": {},
   "outputs": [],
   "source": [
    "temp = Node(93)"
   ]
  },
  {
   "cell_type": "code",
   "execution_count": 7,
   "metadata": {},
   "outputs": [
    {
     "data": {
      "text/plain": [
       "93"
      ]
     },
     "execution_count": 7,
     "metadata": {},
     "output_type": "execute_result"
    }
   ],
   "source": [
    "temp.getData()"
   ]
  },
  {
   "cell_type": "markdown",
   "metadata": {},
   "source": [
    "#### 3.6.2.2 The Unorderd List Class\n",
    "* built from a collection of nodes\n",
    "* each node linked by explicit reference"
   ]
  },
  {
   "cell_type": "code",
   "execution_count": null,
   "metadata": {},
   "outputs": [],
   "source": [
    "class UnorderedList():\n",
    "    def __init__(self):\n",
    "        self.head = None\n",
    "        \n",
    "    def add(self, item):\n",
    "        return self.items.append(item)\n",
    "    \n",
    "    def remove(self, item):\n",
    "        return self.items.remove(item)\n",
    "    \n",
    "    def search(self, item):\n",
    "        return item in self.items\n",
    "    \n",
    "    def isEmpty(self):\n",
    "        return self.head is None\n",
    "    \n",
    "    def length(self):\n",
    "        return len(self.items)\n",
    "    \n",
    "    def append(self, item):\n",
    "        return self.items.append(item)\n",
    "    \n",
    "    def index(self, item):\n",
    "        return self.items.index(item)\n",
    "    \n",
    "    def insert(self, pos, item):\n",
    "        pass\n",
    "    \n",
    "    def pop(self):\n",
    "        pass\n",
    "    \n",
    "    def pop(self, pos):\n",
    "        pass\n",
    "    \n",
    "    def __str__(self):\n",
    "        return str(self.items)"
   ]
  }
 ],
 "metadata": {
  "kernelspec": {
   "display_name": "Python 3",
   "language": "python",
   "name": "python3"
  },
  "language_info": {
   "codemirror_mode": {
    "name": "ipython",
    "version": 3
   },
   "file_extension": ".py",
   "mimetype": "text/x-python",
   "name": "python",
   "nbconvert_exporter": "python",
   "pygments_lexer": "ipython3",
   "version": "3.7.6"
  }
 },
 "nbformat": 4,
 "nbformat_minor": 4
}
